{
  "nbformat": 4,
  "nbformat_minor": 0,
  "metadata": {
    "colab": {
      "name": "Untitled14.ipynb",
      "provenance": [],
      "include_colab_link": true
    },
    "kernelspec": {
      "name": "python3",
      "display_name": "Python 3"
    },
    "accelerator": "GPU"
  },
  "cells": [
    {
      "cell_type": "markdown",
      "metadata": {
        "id": "view-in-github",
        "colab_type": "text"
      },
      "source": [
        "<a href=\"https://colab.research.google.com/github/rahul75/Screenshot-to-code/blob/master/myrunoncolab.ipynb\" target=\"_parent\"><img src=\"https://colab.research.google.com/assets/colab-badge.svg\" alt=\"Open In Colab\"/></a>"
      ]
    },
    {
      "cell_type": "code",
      "metadata": {
        "id": "cQobicWN1Ksz",
        "colab_type": "code",
        "colab": {}
      },
      "source": [
        "!git clone https://github.com/emilwallner/Screenshot-to-code.git"
      ],
      "execution_count": 0,
      "outputs": []
    },
    {
      "cell_type": "code",
      "metadata": {
        "id": "y12xbE3n1Vr6",
        "colab_type": "code",
        "colab": {}
      },
      "source": [
        "%cd Screenshot-to-code/"
      ],
      "execution_count": 0,
      "outputs": []
    },
    {
      "cell_type": "code",
      "metadata": {
        "id": "lGL-9fcmCP4S",
        "colab_type": "code",
        "colab": {}
      },
      "source": [
        "from keras.layers import Embedding, TimeDistributed, RepeatVector, LSTM, concatenate , Input, Reshape, Dense\n",
        "from keras.preprocessing.image import array_to_img, img_to_array, load_img\n",
        "import numpy as np\n",
        "from keras.applications.vgg16 import VGG16, preprocess_input\n",
        "from keras.models import Model\n",
        "from IPython.core.display import display, HTML"
      ],
      "execution_count": 0,
      "outputs": []
    },
    {
      "cell_type": "code",
      "metadata": {
        "id": "nLnI4DrICSzN",
        "colab_type": "code",
        "colab": {}
      },
      "source": [
        "#Length of longest sentence\n",
        "max_caption_len = 3\n",
        "#Size of vocabulary \n",
        "vocab_size = 3"
      ],
      "execution_count": 0,
      "outputs": []
    },
    {
      "cell_type": "code",
      "metadata": {
        "id": "CVhBn6NRCcI3",
        "colab_type": "code",
        "colab": {}
      },
      "source": [
        "%cd /content/Screenshot-to-code/Hello_world"
      ],
      "execution_count": 0,
      "outputs": []
    },
    {
      "cell_type": "code",
      "metadata": {
        "id": "l0Q0DR9GCWCm",
        "colab_type": "code",
        "colab": {}
      },
      "source": [
        "# Load one screenshot for each word, and turn them into digits \n",
        "images = []\n",
        "for i in range(2):\n",
        "    images.append(img_to_array(load_img('screenshot.jpg', target_size=(224, 224))))\n",
        "images = np.array(images, dtype=float)\n",
        "# Preprocess input for the VGG16 model\n",
        "images = preprocess_input(images)"
      ],
      "execution_count": 0,
      "outputs": []
    },
    {
      "cell_type": "code",
      "metadata": {
        "id": "IwX1CJPYCj8A",
        "colab_type": "code",
        "colab": {}
      },
      "source": [
        "#Turn start tokens into one-hot encoding\n",
        "html_input = np.array(\n",
        "            [[[0., 0., 0.], #start\n",
        "             [0., 0., 0.],\n",
        "             [1., 0., 0.]],\n",
        "             [[0., 0., 0.], #start <HTML>Hello World!</HTML>\n",
        "             [1., 0., 0.],\n",
        "             [0., 1., 0.]]])\n",
        "\n",
        "#Turn next word into one-hot encoding\n",
        "next_words = np.array(\n",
        "            [[0., 1., 0.], # <HTML>Hello World!</HTML>\n",
        "             [0., 0., 1.]]) # end"
      ],
      "execution_count": 0,
      "outputs": []
    },
    {
      "cell_type": "code",
      "metadata": {
        "id": "gyeUvjtQCnE8",
        "colab_type": "code",
        "colab": {
          "base_uri": "https://localhost:8080/",
          "height": 411
        },
        "outputId": "6a919cb3-9273-4d23-cc2f-ab5f2573ee66"
      },
      "source": [
        "# Load the VGG16 model trained on imagenet and output the classification feature\n",
        "VGG = VGG16(weights='imagenet', include_top=True)\n",
        "# Extract the features from the image\n",
        "features = VGG.predict(images)"
      ],
      "execution_count": 10,
      "outputs": [
        {
          "output_type": "stream",
          "text": [
            "WARNING:tensorflow:From /usr/local/lib/python3.6/dist-packages/keras/backend/tensorflow_backend.py:66: The name tf.get_default_graph is deprecated. Please use tf.compat.v1.get_default_graph instead.\n",
            "\n",
            "WARNING:tensorflow:From /usr/local/lib/python3.6/dist-packages/keras/backend/tensorflow_backend.py:541: The name tf.placeholder is deprecated. Please use tf.compat.v1.placeholder instead.\n",
            "\n",
            "WARNING:tensorflow:From /usr/local/lib/python3.6/dist-packages/keras/backend/tensorflow_backend.py:4432: The name tf.random_uniform is deprecated. Please use tf.random.uniform instead.\n",
            "\n",
            "WARNING:tensorflow:From /usr/local/lib/python3.6/dist-packages/keras/backend/tensorflow_backend.py:4267: The name tf.nn.max_pool is deprecated. Please use tf.nn.max_pool2d instead.\n",
            "\n",
            "Downloading data from https://github.com/fchollet/deep-learning-models/releases/download/v0.1/vgg16_weights_tf_dim_ordering_tf_kernels.h5\n",
            "553467904/553467096 [==============================] - 43s 0us/step\n",
            "WARNING:tensorflow:From /usr/local/lib/python3.6/dist-packages/keras/backend/tensorflow_backend.py:190: The name tf.get_default_session is deprecated. Please use tf.compat.v1.get_default_session instead.\n",
            "\n",
            "WARNING:tensorflow:From /usr/local/lib/python3.6/dist-packages/keras/backend/tensorflow_backend.py:197: The name tf.ConfigProto is deprecated. Please use tf.compat.v1.ConfigProto instead.\n",
            "\n",
            "WARNING:tensorflow:From /usr/local/lib/python3.6/dist-packages/keras/backend/tensorflow_backend.py:203: The name tf.Session is deprecated. Please use tf.compat.v1.Session instead.\n",
            "\n",
            "WARNING:tensorflow:From /usr/local/lib/python3.6/dist-packages/keras/backend/tensorflow_backend.py:207: The name tf.global_variables is deprecated. Please use tf.compat.v1.global_variables instead.\n",
            "\n",
            "WARNING:tensorflow:From /usr/local/lib/python3.6/dist-packages/keras/backend/tensorflow_backend.py:216: The name tf.is_variable_initialized is deprecated. Please use tf.compat.v1.is_variable_initialized instead.\n",
            "\n",
            "WARNING:tensorflow:From /usr/local/lib/python3.6/dist-packages/keras/backend/tensorflow_backend.py:223: The name tf.variables_initializer is deprecated. Please use tf.compat.v1.variables_initializer instead.\n",
            "\n"
          ],
          "name": "stdout"
        }
      ]
    },
    {
      "cell_type": "code",
      "metadata": {
        "id": "Yp7o1z8kC3jo",
        "colab_type": "code",
        "colab": {}
      },
      "source": [
        "#Load the feature to the network, apply a dense layer, and repeat the vector\n",
        "vgg_feature = Input(shape=(1000,))\n",
        "vgg_feature_dense = Dense(5)(vgg_feature)\n",
        "vgg_feature_repeat = RepeatVector(max_caption_len)(vgg_feature_dense)\n",
        "# Extract information from the input seqence \n",
        "language_input = Input(shape=(vocab_size, vocab_size))\n",
        "language_model = LSTM(5, return_sequences=True)(language_input)"
      ],
      "execution_count": 0,
      "outputs": []
    },
    {
      "cell_type": "code",
      "metadata": {
        "id": "4wxIY0VyC6oY",
        "colab_type": "code",
        "colab": {
          "base_uri": "https://localhost:8080/",
          "height": 105
        },
        "outputId": "70304e50-e1e5-4741-eb9a-d3bce045e613"
      },
      "source": [
        "# Concatenate the information from the image and the input\n",
        "decoder = concatenate([vgg_feature_repeat, language_model])\n",
        "# Extract information from the concatenated output\n",
        "decoder = LSTM(5, return_sequences=False)(decoder)\n",
        "# Predict which word comes next\n",
        "decoder_output = Dense(vocab_size, activation='softmax')(decoder)\n",
        "# Compile and run the neural network\n",
        "model = Model(inputs=[vgg_feature, language_input], outputs=decoder_output)\n",
        "model.compile(loss='categorical_crossentropy', optimizer='rmsprop')"
      ],
      "execution_count": 12,
      "outputs": [
        {
          "output_type": "stream",
          "text": [
            "WARNING:tensorflow:From /usr/local/lib/python3.6/dist-packages/keras/optimizers.py:793: The name tf.train.Optimizer is deprecated. Please use tf.compat.v1.train.Optimizer instead.\n",
            "\n",
            "WARNING:tensorflow:From /usr/local/lib/python3.6/dist-packages/keras/backend/tensorflow_backend.py:3576: The name tf.log is deprecated. Please use tf.math.log instead.\n",
            "\n"
          ],
          "name": "stdout"
        }
      ]
    },
    {
      "cell_type": "code",
      "metadata": {
        "id": "UrSULrWtC9bX",
        "colab_type": "code",
        "colab": {}
      },
      "source": [
        "model.fit([features, html_input], next_words, batch_size=2, shuffle=False, epochs=1000)"
      ],
      "execution_count": 0,
      "outputs": []
    },
    {
      "cell_type": "code",
      "metadata": {
        "id": "U2D4D6RHDPUR",
        "colab_type": "code",
        "colab": {}
      },
      "source": [
        "start_token = [1., 0., 0.] # start\n",
        "sentence = np.zeros((1, 3, 3)) # [[0,0,0], [0,0,0], [0,0,0]]\n",
        "sentence[0][2] = start_token # place start in empty sentence"
      ],
      "execution_count": 0,
      "outputs": []
    },
    {
      "cell_type": "code",
      "metadata": {
        "id": "GozzcTM7DSHl",
        "colab_type": "code",
        "colab": {}
      },
      "source": [
        "second_word = model.predict([np.array([features[1]]), sentence])"
      ],
      "execution_count": 0,
      "outputs": []
    },
    {
      "cell_type": "code",
      "metadata": {
        "id": "29m8YyU9DV6J",
        "colab_type": "code",
        "colab": {}
      },
      "source": [
        "# Put the second word in the sentence and make the final prediction\n",
        "sentence[0][1] = start_token\n",
        "sentence[0][2] = np.round(second_word)\n",
        "third_word = model.predict([np.array([features[1]]), sentence])"
      ],
      "execution_count": 0,
      "outputs": []
    },
    {
      "cell_type": "code",
      "metadata": {
        "id": "drn7_qoBDZJR",
        "colab_type": "code",
        "colab": {}
      },
      "source": [
        "sentence[0][0] = start_token\n",
        "sentence[0][1] = np.round(second_word)\n",
        "sentence[0][2] = np.round(third_word)"
      ],
      "execution_count": 0,
      "outputs": []
    },
    {
      "cell_type": "code",
      "metadata": {
        "id": "B9OEVeKxDaep",
        "colab_type": "code",
        "colab": {}
      },
      "source": [
        "# Transform our one-hot predictions into the final tokens\n",
        "vocabulary = [\"start\", \"<HTML><center><H1>Hello World!</H1><center></HTML>\", \"end\"]\n",
        "html = \"\"\n",
        "for i in sentence[0]:\n",
        "    html += vocabulary[np.argmax(i)] + ' '"
      ],
      "execution_count": 0,
      "outputs": []
    },
    {
      "cell_type": "code",
      "metadata": {
        "id": "Ak9zi5M_DegD",
        "colab_type": "code",
        "colab": {
          "base_uri": "https://localhost:8080/",
          "height": 74
        },
        "outputId": "1079cfd3-a70c-473d-b4a2-1fa55ff27768"
      },
      "source": [
        "from IPython.core.display import display, HTML\n",
        "display(HTML(html[6:49]))"
      ],
      "execution_count": 19,
      "outputs": [
        {
          "output_type": "display_data",
          "data": {
            "text/html": [
              "<HTML><center><H1>Hello World!</H1><center>"
            ],
            "text/plain": [
              "<IPython.core.display.HTML object>"
            ]
          },
          "metadata": {
            "tags": []
          }
        }
      ]
    }
  ]
}